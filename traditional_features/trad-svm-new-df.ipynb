{
 "cells": [
  {
   "cell_type": "code",
   "execution_count": 1,
   "id": "58e69adb",
   "metadata": {
    "_cell_guid": "b1076dfc-b9ad-4769-8c92-a6c4dae69d19",
    "_uuid": "8f2839f25d086af736a60e9eeb907d3b93b6e0e5",
    "execution": {
     "iopub.execute_input": "2023-07-31T02:59:12.352411Z",
     "iopub.status.busy": "2023-07-31T02:59:12.352022Z",
     "iopub.status.idle": "2023-07-31T02:59:12.372817Z",
     "shell.execute_reply": "2023-07-31T02:59:12.371623Z"
    },
    "papermill": {
     "duration": 0.032657,
     "end_time": "2023-07-31T02:59:12.375350",
     "exception": false,
     "start_time": "2023-07-31T02:59:12.342693",
     "status": "completed"
    },
    "tags": []
   },
   "outputs": [
    {
     "name": "stdout",
     "output_type": "stream",
     "text": [
      "/kaggle/input/trad-new-df/fe_TRAD_manual_2.csv\n"
     ]
    }
   ],
   "source": [
    "# This Python 3 environment comes with many helpful analytics libraries installed\n",
    "# It is defined by the kaggle/python Docker image: https://github.com/kaggle/docker-python\n",
    "# For example, here's several helpful packages to load\n",
    "\n",
    "import numpy as np # linear algebra\n",
    "import pandas as pd # data processing, CSV file I/O (e.g. pd.read_csv)\n",
    "\n",
    "# Input data files are available in the read-only \"../input/\" directory\n",
    "# For example, running this (by clicking run or pressing Shift+Enter) will list all files under the input directory\n",
    "\n",
    "import os\n",
    "for dirname, _, filenames in os.walk('/kaggle/input'):\n",
    "    for filename in filenames:\n",
    "        print(os.path.join(dirname, filename))\n",
    "\n",
    "# You can write up to 20GB to the current directory (/kaggle/working/) that gets preserved as output when you create a version using \"Save & Run All\" \n",
    "# You can also write temporary files to /kaggle/temp/, but they won't be saved outside of the current session"
   ]
  },
  {
   "cell_type": "code",
   "execution_count": 2,
   "id": "5e1d2b3b",
   "metadata": {
    "execution": {
     "iopub.execute_input": "2023-07-31T02:59:12.392012Z",
     "iopub.status.busy": "2023-07-31T02:59:12.391242Z",
     "iopub.status.idle": "2023-07-31T02:59:12.432752Z",
     "shell.execute_reply": "2023-07-31T02:59:12.431570Z"
    },
    "papermill": {
     "duration": 0.052822,
     "end_time": "2023-07-31T02:59:12.435531",
     "exception": false,
     "start_time": "2023-07-31T02:59:12.382709",
     "status": "completed"
    },
    "tags": []
   },
   "outputs": [],
   "source": [
    "df_trad = pd.read_csv('/kaggle/input/trad-new-df/fe_TRAD_manual_2.csv')"
   ]
  },
  {
   "cell_type": "code",
   "execution_count": 3,
   "id": "fd7e8c59",
   "metadata": {
    "execution": {
     "iopub.execute_input": "2023-07-31T02:59:12.451391Z",
     "iopub.status.busy": "2023-07-31T02:59:12.450968Z",
     "iopub.status.idle": "2023-07-31T02:59:12.486309Z",
     "shell.execute_reply": "2023-07-31T02:59:12.485086Z"
    },
    "papermill": {
     "duration": 0.046585,
     "end_time": "2023-07-31T02:59:12.489211",
     "exception": false,
     "start_time": "2023-07-31T02:59:12.442626",
     "status": "completed"
    },
    "tags": []
   },
   "outputs": [
    {
     "data": {
      "text/html": [
       "<div>\n",
       "<style scoped>\n",
       "    .dataframe tbody tr th:only-of-type {\n",
       "        vertical-align: middle;\n",
       "    }\n",
       "\n",
       "    .dataframe tbody tr th {\n",
       "        vertical-align: top;\n",
       "    }\n",
       "\n",
       "    .dataframe thead th {\n",
       "        text-align: right;\n",
       "    }\n",
       "</style>\n",
       "<table border=\"1\" class=\"dataframe\">\n",
       "  <thead>\n",
       "    <tr style=\"text-align: right;\">\n",
       "      <th></th>\n",
       "      <th>count_syllables</th>\n",
       "      <th>flesch_kincaid_grade_score</th>\n",
       "      <th>num_of_words</th>\n",
       "      <th>avg_word_length</th>\n",
       "      <th>flesch_reading_score</th>\n",
       "      <th>Average_Syyllabels_count</th>\n",
       "    </tr>\n",
       "  </thead>\n",
       "  <tbody>\n",
       "    <tr>\n",
       "      <th>0</th>\n",
       "      <td>7</td>\n",
       "      <td>13.113333</td>\n",
       "      <td>3</td>\n",
       "      <td>6.333333</td>\n",
       "      <td>6.390</td>\n",
       "      <td>2.333333</td>\n",
       "    </tr>\n",
       "    <tr>\n",
       "      <th>1</th>\n",
       "      <td>7</td>\n",
       "      <td>2.880000</td>\n",
       "      <td>5</td>\n",
       "      <td>4.600000</td>\n",
       "      <td>83.320</td>\n",
       "      <td>1.400000</td>\n",
       "    </tr>\n",
       "    <tr>\n",
       "      <th>2</th>\n",
       "      <td>4</td>\n",
       "      <td>1.313333</td>\n",
       "      <td>3</td>\n",
       "      <td>3.666667</td>\n",
       "      <td>90.990</td>\n",
       "      <td>1.333333</td>\n",
       "    </tr>\n",
       "    <tr>\n",
       "      <th>3</th>\n",
       "      <td>4</td>\n",
       "      <td>8.790000</td>\n",
       "      <td>2</td>\n",
       "      <td>5.500000</td>\n",
       "      <td>35.605</td>\n",
       "      <td>2.000000</td>\n",
       "    </tr>\n",
       "    <tr>\n",
       "      <th>4</th>\n",
       "      <td>5</td>\n",
       "      <td>8.790000</td>\n",
       "      <td>2</td>\n",
       "      <td>4.500000</td>\n",
       "      <td>35.605</td>\n",
       "      <td>2.000000</td>\n",
       "    </tr>\n",
       "  </tbody>\n",
       "</table>\n",
       "</div>"
      ],
      "text/plain": [
       "   count_syllables  flesch_kincaid_grade_score  num_of_words  avg_word_length  \\\n",
       "0                7                   13.113333             3         6.333333   \n",
       "1                7                    2.880000             5         4.600000   \n",
       "2                4                    1.313333             3         3.666667   \n",
       "3                4                    8.790000             2         5.500000   \n",
       "4                5                    8.790000             2         4.500000   \n",
       "\n",
       "   flesch_reading_score  Average_Syyllabels_count  \n",
       "0                 6.390                  2.333333  \n",
       "1                83.320                  1.400000  \n",
       "2                90.990                  1.333333  \n",
       "3                35.605                  2.000000  \n",
       "4                35.605                  2.000000  "
      ]
     },
     "execution_count": 3,
     "metadata": {},
     "output_type": "execute_result"
    }
   ],
   "source": [
    "c = df_trad['grade']\n",
    "X = df_trad.drop('grade', axis=1)\n",
    "X = X.drop('text', axis=1)\n",
    "X.head()\n"
   ]
  },
  {
   "cell_type": "code",
   "execution_count": 4,
   "id": "090075cb",
   "metadata": {
    "execution": {
     "iopub.execute_input": "2023-07-31T02:59:12.506079Z",
     "iopub.status.busy": "2023-07-31T02:59:12.505607Z",
     "iopub.status.idle": "2023-07-31T02:59:13.799733Z",
     "shell.execute_reply": "2023-07-31T02:59:13.798563Z"
    },
    "papermill": {
     "duration": 1.305958,
     "end_time": "2023-07-31T02:59:13.802714",
     "exception": false,
     "start_time": "2023-07-31T02:59:12.496756",
     "status": "completed"
    },
    "tags": []
   },
   "outputs": [
    {
     "name": "stderr",
     "output_type": "stream",
     "text": [
      "/opt/conda/lib/python3.10/site-packages/scipy/__init__.py:146: UserWarning: A NumPy version >=1.16.5 and <1.23.0 is required for this version of SciPy (detected version 1.23.5\n",
      "  warnings.warn(f\"A NumPy version >={np_minversion} and <{np_maxversion}\"\n"
     ]
    }
   ],
   "source": [
    "from sklearn.model_selection import train_test_split\n",
    "\n",
    "X = df_trad[['count_syllables', 'flesch_kincaid_grade_score', 'num_of_words', 'avg_word_length', 'flesch_reading_score', 'Average_Syyllabels_count']]\n",
    "y = df_trad[['grade']]\n"
   ]
  },
  {
   "cell_type": "code",
   "execution_count": 5,
   "id": "c92fe252",
   "metadata": {
    "execution": {
     "iopub.execute_input": "2023-07-31T02:59:13.820366Z",
     "iopub.status.busy": "2023-07-31T02:59:13.819128Z",
     "iopub.status.idle": "2023-07-31T02:59:14.475381Z",
     "shell.execute_reply": "2023-07-31T02:59:14.474265Z"
    },
    "papermill": {
     "duration": 0.66782,
     "end_time": "2023-07-31T02:59:14.478060",
     "exception": false,
     "start_time": "2023-07-31T02:59:13.810240",
     "status": "completed"
    },
    "tags": []
   },
   "outputs": [],
   "source": [
    "from imblearn.combine import SMOTETomek\n",
    "from imblearn.under_sampling import TomekLinks\n",
    "# Define SMOTE-Tomek Links\n",
    "resample=SMOTETomek(tomek=TomekLinks(sampling_strategy='majority'))\n",
    "X, y = resample.fit_resample(X, y)"
   ]
  },
  {
   "cell_type": "code",
   "execution_count": 6,
   "id": "da995e0f",
   "metadata": {
    "execution": {
     "iopub.execute_input": "2023-07-31T02:59:14.494333Z",
     "iopub.status.busy": "2023-07-31T02:59:14.493907Z",
     "iopub.status.idle": "2023-07-31T02:59:14.502210Z",
     "shell.execute_reply": "2023-07-31T02:59:14.501012Z"
    },
    "papermill": {
     "duration": 0.019294,
     "end_time": "2023-07-31T02:59:14.504667",
     "exception": false,
     "start_time": "2023-07-31T02:59:14.485373",
     "status": "completed"
    },
    "tags": []
   },
   "outputs": [],
   "source": [
    "X_train, X_test, y_train, y_test = train_test_split(X, y, test_size=0.20)"
   ]
  },
  {
   "cell_type": "code",
   "execution_count": 7,
   "id": "53acc121",
   "metadata": {
    "execution": {
     "iopub.execute_input": "2023-07-31T02:59:14.521073Z",
     "iopub.status.busy": "2023-07-31T02:59:14.520649Z",
     "iopub.status.idle": "2023-07-31T02:59:14.754962Z",
     "shell.execute_reply": "2023-07-31T02:59:14.753816Z"
    },
    "papermill": {
     "duration": 0.245335,
     "end_time": "2023-07-31T02:59:14.757463",
     "exception": false,
     "start_time": "2023-07-31T02:59:14.512128",
     "status": "completed"
    },
    "tags": []
   },
   "outputs": [
    {
     "data": {
      "image/png": "[encoded data removed]",
      "text/plain": [
       "<Figure size 640x480 with 1 Axes>"
      ]
     },
     "metadata": {},
     "output_type": "display_data"
    }
   ],
   "source": [
    "import matplotlib.pyplot as plt\n",
    "count = y_train.value_counts()\n",
    "count.plot.bar()\n",
    "plt.ylabel('Number of records')\n",
    "plt.xlabel('Target Class')\n",
    "plt.show()"
   ]
  },
  {
   "cell_type": "code",
   "execution_count": 8,
   "id": "8dba9f6e",
   "metadata": {
    "execution": {
     "iopub.execute_input": "2023-07-31T02:59:14.776465Z",
     "iopub.status.busy": "2023-07-31T02:59:14.776081Z",
     "iopub.status.idle": "2023-07-31T02:59:15.960511Z",
     "shell.execute_reply": "2023-07-31T02:59:15.959444Z"
    },
    "papermill": {
     "duration": 1.197793,
     "end_time": "2023-07-31T02:59:15.963157",
     "exception": false,
     "start_time": "2023-07-31T02:59:14.765364",
     "status": "completed"
    },
    "tags": []
   },
   "outputs": [
    {
     "name": "stderr",
     "output_type": "stream",
     "text": [
      "/opt/conda/lib/python3.10/site-packages/sklearn/utils/validation.py:1143: DataConversionWarning: A column-vector y was passed when a 1d array was expected. Please change the shape of y to (n_samples, ), for example using ravel().\n",
      "  y = column_or_1d(y, warn=True)\n"
     ]
    }
   ],
   "source": [
    "from sklearn import svm, datasets\n",
    "model = svm.SVC().fit(X_train, y_train)"
   ]
  },
  {
   "cell_type": "code",
   "execution_count": 9,
   "id": "3a7ab847",
   "metadata": {
    "execution": {
     "iopub.execute_input": "2023-07-31T02:59:15.980760Z",
     "iopub.status.busy": "2023-07-31T02:59:15.980389Z",
     "iopub.status.idle": "2023-07-31T02:59:16.482148Z",
     "shell.execute_reply": "2023-07-31T02:59:16.481139Z"
    },
    "papermill": {
     "duration": 0.513352,
     "end_time": "2023-07-31T02:59:16.484429",
     "exception": false,
     "start_time": "2023-07-31T02:59:15.971077",
     "status": "completed"
    },
    "tags": []
   },
   "outputs": [
    {
     "data": {
      "image/png": "[encoded data removed]",
      "text/plain": [
       "<Figure size 640x480 with 2 Axes>"
      ]
     },
     "metadata": {},
     "output_type": "display_data"
    }
   ],
   "source": [
    "# model_svm.fit(X_train, y_train)\n",
    "import matplotlib.pyplot as plt\n",
    "from sklearn.metrics import confusion_matrix, ConfusionMatrixDisplay\n",
    "\n",
    "ConfusionMatrixDisplay.from_estimator(model, X_test, y_test, normalize='true')\n",
    "plt.show()"
   ]
  },
  {
   "cell_type": "code",
   "execution_count": 10,
   "id": "7ca81563",
   "metadata": {
    "execution": {
     "iopub.execute_input": "2023-07-31T02:59:16.502830Z",
     "iopub.status.busy": "2023-07-31T02:59:16.502059Z",
     "iopub.status.idle": "2023-07-31T02:59:16.765216Z",
     "shell.execute_reply": "2023-07-31T02:59:16.764070Z"
    },
    "papermill": {
     "duration": 0.275135,
     "end_time": "2023-07-31T02:59:16.767822",
     "exception": false,
     "start_time": "2023-07-31T02:59:16.492687",
     "status": "completed"
    },
    "tags": []
   },
   "outputs": [
    {
     "name": "stdout",
     "output_type": "stream",
     "text": [
      "              precision    recall  f1-score   support\n",
      "\n",
      "           1      0.422     0.582     0.489       349\n",
      "           2      0.379     0.548     0.448       378\n",
      "           4      0.518     0.114     0.187       385\n",
      "\n",
      "    accuracy                          0.408      1112\n",
      "   macro avg      0.440     0.415     0.375      1112\n",
      "weighted avg      0.441     0.408     0.371      1112\n",
      "\n"
     ]
    }
   ],
   "source": [
    "model_pred = model.predict(X_test)\n",
    "from sklearn.metrics import classification_report\n",
    "print(classification_report(y_test, model_pred, digits=3))"
   ]
  },
  {
   "cell_type": "code",
   "execution_count": 11,
   "id": "9a735ddc",
   "metadata": {
    "execution": {
     "iopub.execute_input": "2023-07-31T02:59:16.786886Z",
     "iopub.status.busy": "2023-07-31T02:59:16.785905Z",
     "iopub.status.idle": "2023-07-31T02:59:16.790313Z",
     "shell.execute_reply": "2023-07-31T02:59:16.789608Z"
    },
    "papermill": {
     "duration": 0.016063,
     "end_time": "2023-07-31T02:59:16.792328",
     "exception": false,
     "start_time": "2023-07-31T02:59:16.776265",
     "status": "completed"
    },
    "tags": []
   },
   "outputs": [],
   "source": [
    "from sklearn.model_selection import GridSearchCV\n",
    "model_svm = svm.SVC()"
   ]
  },
  {
   "cell_type": "code",
   "execution_count": 12,
   "id": "17f076df",
   "metadata": {
    "execution": {
     "iopub.execute_input": "2023-07-31T02:59:16.810368Z",
     "iopub.status.busy": "2023-07-31T02:59:16.809807Z",
     "iopub.status.idle": "2023-07-31T02:59:16.814722Z",
     "shell.execute_reply": "2023-07-31T02:59:16.813585Z"
    },
    "papermill": {
     "duration": 0.016513,
     "end_time": "2023-07-31T02:59:16.816877",
     "exception": false,
     "start_time": "2023-07-31T02:59:16.800364",
     "status": "completed"
    },
    "tags": []
   },
   "outputs": [],
   "source": [
    "param_grid = {\n",
    "#     'C': [0.1, 1, 10, 100, 1000],\n",
    "    'C' : [1000],\n",
    "    'gamma': [1, 0.1, 0.01, 0.001, 0.0001],\n",
    "#     'kernel' : ['linear', 'poly', 'rbf', 'sigmoid'],\n",
    "    'kernel' : ['rbf'],\n",
    "    'decision_function_shape':['ovo', 'ovr'],\n",
    "}"
   ]
  },
  {
   "cell_type": "code",
   "execution_count": 13,
   "id": "fb8f0cd6",
   "metadata": {
    "execution": {
     "iopub.execute_input": "2023-07-31T02:59:16.836070Z",
     "iopub.status.busy": "2023-07-31T02:59:16.835432Z",
     "iopub.status.idle": "2023-07-31T03:00:27.282439Z",
     "shell.execute_reply": "2023-07-31T03:00:27.281376Z"
    },
    "papermill": {
     "duration": 70.459241,
     "end_time": "2023-07-31T03:00:27.284892",
     "exception": false,
     "start_time": "2023-07-31T02:59:16.825651",
     "status": "completed"
    },
    "tags": []
   },
   "outputs": [
    {
     "name": "stderr",
     "output_type": "stream",
     "text": [
      "/opt/conda/lib/python3.10/site-packages/sklearn/utils/validation.py:1143: DataConversionWarning: A column-vector y was passed when a 1d array was expected. Please change the shape of y to (n_samples, ), for example using ravel().\n",
      "  y = column_or_1d(y, warn=True)\n",
      "/opt/conda/lib/python3.10/site-packages/sklearn/utils/validation.py:1143: DataConversionWarning: A column-vector y was passed when a 1d array was expected. Please change the shape of y to (n_samples, ), for example using ravel().\n",
      "  y = column_or_1d(y, warn=True)\n",
      "/opt/conda/lib/python3.10/site-packages/sklearn/utils/validation.py:1143: DataConversionWarning: A column-vector y was passed when a 1d array was expected. Please change the shape of y to (n_samples, ), for example using ravel().\n",
      "  y = column_or_1d(y, warn=True)\n",
      "/opt/conda/lib/python3.10/site-packages/sklearn/utils/validation.py:1143: DataConversionWarning: A column-vector y was passed when a 1d array was expected. Please change the shape of y to (n_samples, ), for example using ravel().\n",
      "  y = column_or_1d(y, warn=True)\n",
      "/opt/conda/lib/python3.10/site-packages/sklearn/utils/validation.py:1143: DataConversionWarning: A column-vector y was passed when a 1d array was expected. Please change the shape of y to (n_samples, ), for example using ravel().\n",
      "  y = column_or_1d(y, warn=True)\n",
      "/opt/conda/lib/python3.10/site-packages/sklearn/utils/validation.py:1143: DataConversionWarning: A column-vector y was passed when a 1d array was expected. Please change the shape of y to (n_samples, ), for example using ravel().\n",
      "  y = column_or_1d(y, warn=True)\n",
      "/opt/conda/lib/python3.10/site-packages/sklearn/utils/validation.py:1143: DataConversionWarning: A column-vector y was passed when a 1d array was expected. Please change the shape of y to (n_samples, ), for example using ravel().\n",
      "  y = column_or_1d(y, warn=True)\n",
      "/opt/conda/lib/python3.10/site-packages/sklearn/utils/validation.py:1143: DataConversionWarning: A column-vector y was passed when a 1d array was expected. Please change the shape of y to (n_samples, ), for example using ravel().\n",
      "  y = column_or_1d(y, warn=True)\n",
      "/opt/conda/lib/python3.10/site-packages/sklearn/utils/validation.py:1143: DataConversionWarning: A column-vector y was passed when a 1d array was expected. Please change the shape of y to (n_samples, ), for example using ravel().\n",
      "  y = column_or_1d(y, warn=True)\n",
      "/opt/conda/lib/python3.10/site-packages/sklearn/utils/validation.py:1143: DataConversionWarning: A column-vector y was passed when a 1d array was expected. Please change the shape of y to (n_samples, ), for example using ravel().\n",
      "  y = column_or_1d(y, warn=True)\n",
      "/opt/conda/lib/python3.10/site-packages/sklearn/utils/validation.py:1143: DataConversionWarning: A column-vector y was passed when a 1d array was expected. Please change the shape of y to (n_samples, ), for example using ravel().\n",
      "  y = column_or_1d(y, warn=True)\n",
      "/opt/conda/lib/python3.10/site-packages/sklearn/utils/validation.py:1143: DataConversionWarning: A column-vector y was passed when a 1d array was expected. Please change the shape of y to (n_samples, ), for example using ravel().\n",
      "  y = column_or_1d(y, warn=True)\n",
      "/opt/conda/lib/python3.10/site-packages/sklearn/utils/validation.py:1143: DataConversionWarning: A column-vector y was passed when a 1d array was expected. Please change the shape of y to (n_samples, ), for example using ravel().\n",
      "  y = column_or_1d(y, warn=True)\n",
      "/opt/conda/lib/python3.10/site-packages/sklearn/utils/validation.py:1143: DataConversionWarning: A column-vector y was passed when a 1d array was expected. Please change the shape of y to (n_samples, ), for example using ravel().\n",
      "  y = column_or_1d(y, warn=True)\n",
      "/opt/conda/lib/python3.10/site-packages/sklearn/utils/validation.py:1143: DataConversionWarning: A column-vector y was passed when a 1d array was expected. Please change the shape of y to (n_samples, ), for example using ravel().\n",
      "  y = column_or_1d(y, warn=True)\n",
      "/opt/conda/lib/python3.10/site-packages/sklearn/utils/validation.py:1143: DataConversionWarning: A column-vector y was passed when a 1d array was expected. Please change the shape of y to (n_samples, ), for example using ravel().\n",
      "  y = column_or_1d(y, warn=True)\n",
      "/opt/conda/lib/python3.10/site-packages/sklearn/utils/validation.py:1143: DataConversionWarning: A column-vector y was passed when a 1d array was expected. Please change the shape of y to (n_samples, ), for example using ravel().\n",
      "  y = column_or_1d(y, warn=True)\n",
      "/opt/conda/lib/python3.10/site-packages/sklearn/utils/validation.py:1143: DataConversionWarning: A column-vector y was passed when a 1d array was expected. Please change the shape of y to (n_samples, ), for example using ravel().\n",
      "  y = column_or_1d(y, warn=True)\n",
      "/opt/conda/lib/python3.10/site-packages/sklearn/utils/validation.py:1143: DataConversionWarning: A column-vector y was passed when a 1d array was expected. Please change the shape of y to (n_samples, ), for example using ravel().\n",
      "  y = column_or_1d(y, warn=True)\n",
      "/opt/conda/lib/python3.10/site-packages/sklearn/utils/validation.py:1143: DataConversionWarning: A column-vector y was passed when a 1d array was expected. Please change the shape of y to (n_samples, ), for example using ravel().\n",
      "  y = column_or_1d(y, warn=True)\n",
      "/opt/conda/lib/python3.10/site-packages/sklearn/utils/validation.py:1143: DataConversionWarning: A column-vector y was passed when a 1d array was expected. Please change the shape of y to (n_samples, ), for example using ravel().\n",
      "  y = column_or_1d(y, warn=True)\n",
      "/opt/conda/lib/python3.10/site-packages/sklearn/utils/validation.py:1143: DataConversionWarning: A column-vector y was passed when a 1d array was expected. Please change the shape of y to (n_samples, ), for example using ravel().\n",
      "  y = column_or_1d(y, warn=True)\n",
      "/opt/conda/lib/python3.10/site-packages/sklearn/utils/validation.py:1143: DataConversionWarning: A column-vector y was passed when a 1d array was expected. Please change the shape of y to (n_samples, ), for example using ravel().\n",
      "  y = column_or_1d(y, warn=True)\n",
      "/opt/conda/lib/python3.10/site-packages/sklearn/utils/validation.py:1143: DataConversionWarning: A column-vector y was passed when a 1d array was expected. Please change the shape of y to (n_samples, ), for example using ravel().\n",
      "  y = column_or_1d(y, warn=True)\n",
      "/opt/conda/lib/python3.10/site-packages/sklearn/utils/validation.py:1143: DataConversionWarning: A column-vector y was passed when a 1d array was expected. Please change the shape of y to (n_samples, ), for example using ravel().\n",
      "  y = column_or_1d(y, warn=True)\n",
      "/opt/conda/lib/python3.10/site-packages/sklearn/utils/validation.py:1143: DataConversionWarning: A column-vector y was passed when a 1d array was expected. Please change the shape of y to (n_samples, ), for example using ravel().\n",
      "  y = column_or_1d(y, warn=True)\n",
      "/opt/conda/lib/python3.10/site-packages/sklearn/utils/validation.py:1143: DataConversionWarning: A column-vector y was passed when a 1d array was expected. Please change the shape of y to (n_samples, ), for example using ravel().\n",
      "  y = column_or_1d(y, warn=True)\n",
      "/opt/conda/lib/python3.10/site-packages/sklearn/utils/validation.py:1143: DataConversionWarning: A column-vector y was passed when a 1d array was expected. Please change the shape of y to (n_samples, ), for example using ravel().\n",
      "  y = column_or_1d(y, warn=True)\n",
      "/opt/conda/lib/python3.10/site-packages/sklearn/utils/validation.py:1143: DataConversionWarning: A column-vector y was passed when a 1d array was expected. Please change the shape of y to (n_samples, ), for example using ravel().\n",
      "  y = column_or_1d(y, warn=True)\n",
      "/opt/conda/lib/python3.10/site-packages/sklearn/utils/validation.py:1143: DataConversionWarning: A column-vector y was passed when a 1d array was expected. Please change the shape of y to (n_samples, ), for example using ravel().\n",
      "  y = column_or_1d(y, warn=True)\n",
      "/opt/conda/lib/python3.10/site-packages/sklearn/utils/validation.py:1143: DataConversionWarning: A column-vector y was passed when a 1d array was expected. Please change the shape of y to (n_samples, ), for example using ravel().\n",
      "  y = column_or_1d(y, warn=True)\n"
     ]
    },
    {
     "data": {
      "text/html": [
       "<style>#sk-container-id-1 {color: black;background-color: white;}#sk-container-id-1 pre{padding: 0;}#sk-container-id-1 div.sk-toggleable {background-color: white;}#sk-container-id-1 label.sk-toggleable__label {cursor: pointer;display: block;width: 100%;margin-bottom: 0;padding: 0.3em;box-sizing: border-box;text-align: center;}#sk-container-id-1 label.sk-toggleable__label-arrow:before {content: \"▸\";float: left;margin-right: 0.25em;color: #696969;}#sk-container-id-1 label.sk-toggleable__label-arrow:hover:before {color: black;}#sk-container-id-1 div.sk-estimator:hover label.sk-toggleable__label-arrow:before {color: black;}#sk-container-id-1 div.sk-toggleable__content {max-height: 0;max-width: 0;overflow: hidden;text-align: left;background-color: #f0f8ff;}#sk-container-id-1 div.sk-toggleable__content pre {margin: 0.2em;color: black;border-radius: 0.25em;background-color: #f0f8ff;}#sk-container-id-1 input.sk-toggleable__control:checked~div.sk-toggleable__content {max-height: 200px;max-width: 100%;overflow: auto;}#sk-container-id-1 input.sk-toggleable__control:checked~label.sk-toggleable__label-arrow:before {content: \"▾\";}#sk-container-id-1 div.sk-estimator input.sk-toggleable__control:checked~label.sk-toggleable__label {background-color: #d4ebff;}#sk-container-id-1 div.sk-label input.sk-toggleable__control:checked~label.sk-toggleable__label {background-color: #d4ebff;}#sk-container-id-1 input.sk-hidden--visually {border: 0;clip: rect(1px 1px 1px 1px);clip: rect(1px, 1px, 1px, 1px);height: 1px;margin: -1px;overflow: hidden;padding: 0;position: absolute;width: 1px;}#sk-container-id-1 div.sk-estimator {font-family: monospace;background-color: #f0f8ff;border: 1px dotted black;border-radius: 0.25em;box-sizing: border-box;margin-bottom: 0.5em;}#sk-container-id-1 div.sk-estimator:hover {background-color: #d4ebff;}#sk-container-id-1 div.sk-parallel-item::after {content: \"\";width: 100%;border-bottom: 1px solid gray;flex-grow: 1;}#sk-container-id-1 div.sk-label:hover label.sk-toggleable__label {background-color: #d4ebff;}#sk-container-id-1 div.sk-serial::before {content: \"\";position: absolute;border-left: 1px solid gray;box-sizing: border-box;top: 0;bottom: 0;left: 50%;z-index: 0;}#sk-container-id-1 div.sk-serial {display: flex;flex-direction: column;align-items: center;background-color: white;padding-right: 0.2em;padding-left: 0.2em;position: relative;}#sk-container-id-1 div.sk-item {position: relative;z-index: 1;}#sk-container-id-1 div.sk-parallel {display: flex;align-items: stretch;justify-content: center;background-color: white;position: relative;}#sk-container-id-1 div.sk-item::before, #sk-container-id-1 div.sk-parallel-item::before {content: \"\";position: absolute;border-left: 1px solid gray;box-sizing: border-box;top: 0;bottom: 0;left: 50%;z-index: -1;}#sk-container-id-1 div.sk-parallel-item {display: flex;flex-direction: column;z-index: 1;position: relative;background-color: white;}#sk-container-id-1 div.sk-parallel-item:first-child::after {align-self: flex-end;width: 50%;}#sk-container-id-1 div.sk-parallel-item:last-child::after {align-self: flex-start;width: 50%;}#sk-container-id-1 div.sk-parallel-item:only-child::after {width: 0;}#sk-container-id-1 div.sk-dashed-wrapped {border: 1px dashed gray;margin: 0 0.4em 0.5em 0.4em;box-sizing: border-box;padding-bottom: 0.4em;background-color: white;}#sk-container-id-1 div.sk-label label {font-family: monospace;font-weight: bold;display: inline-block;line-height: 1.2em;}#sk-container-id-1 div.sk-label-container {text-align: center;}#sk-container-id-1 div.sk-container {/* jupyter's `normalize.less` sets `[hidden] { display: none; }` but bootstrap.min.css set `[hidden] { display: none !important; }` so we also need the `!important` here to be able to override the default hidden behavior on the sphinx rendered scikit-learn.org. See: https://github.com/scikit-learn/scikit-learn/issues/21755 */display: inline-block !important;position: relative;}#sk-container-id-1 div.sk-text-repr-fallback {display: none;}</style><div id=\"sk-container-id-1\" class=\"sk-top-container\"><div class=\"sk-text-repr-fallback\"><pre>GridSearchCV(cv=3, estimator=SVC(),\n",
       "             param_grid={&#x27;C&#x27;: [1000], &#x27;decision_function_shape&#x27;: [&#x27;ovo&#x27;, &#x27;ovr&#x27;],\n",
       "                         &#x27;gamma&#x27;: [1, 0.1, 0.01, 0.001, 0.0001],\n",
       "                         &#x27;kernel&#x27;: [&#x27;rbf&#x27;]})</pre><b>In a Jupyter environment, please rerun this cell to show the HTML representation or trust the notebook. <br />On GitHub, the HTML representation is unable to render, please try loading this page with nbviewer.org.</b></div><div class=\"sk-container\" hidden><div class=\"sk-item sk-dashed-wrapped\"><div class=\"sk-label-container\"><div class=\"sk-label sk-toggleable\"><input class=\"sk-toggleable__control sk-hidden--visually\" id=\"sk-estimator-id-1\" type=\"checkbox\" ><label for=\"sk-estimator-id-1\" class=\"sk-toggleable__label sk-toggleable__label-arrow\">GridSearchCV</label><div class=\"sk-toggleable__content\"><pre>GridSearchCV(cv=3, estimator=SVC(),\n",
       "             param_grid={&#x27;C&#x27;: [1000], &#x27;decision_function_shape&#x27;: [&#x27;ovo&#x27;, &#x27;ovr&#x27;],\n",
       "                         &#x27;gamma&#x27;: [1, 0.1, 0.01, 0.001, 0.0001],\n",
       "                         &#x27;kernel&#x27;: [&#x27;rbf&#x27;]})</pre></div></div></div><div class=\"sk-parallel\"><div class=\"sk-parallel-item\"><div class=\"sk-item\"><div class=\"sk-label-container\"><div class=\"sk-label sk-toggleable\"><input class=\"sk-toggleable__control sk-hidden--visually\" id=\"sk-estimator-id-2\" type=\"checkbox\" ><label for=\"sk-estimator-id-2\" class=\"sk-toggleable__label sk-toggleable__label-arrow\">estimator: SVC</label><div class=\"sk-toggleable__content\"><pre>SVC()</pre></div></div></div><div class=\"sk-serial\"><div class=\"sk-item\"><div class=\"sk-estimator sk-toggleable\"><input class=\"sk-toggleable__control sk-hidden--visually\" id=\"sk-estimator-id-3\" type=\"checkbox\" ><label for=\"sk-estimator-id-3\" class=\"sk-toggleable__label sk-toggleable__label-arrow\">SVC</label><div class=\"sk-toggleable__content\"><pre>SVC()</pre></div></div></div></div></div></div></div></div></div></div>"
      ],
      "text/plain": [
       "GridSearchCV(cv=3, estimator=SVC(),\n",
       "             param_grid={'C': [1000], 'decision_function_shape': ['ovo', 'ovr'],\n",
       "                         'gamma': [1, 0.1, 0.01, 0.001, 0.0001],\n",
       "                         'kernel': ['rbf']})"
      ]
     },
     "execution_count": 13,
     "metadata": {},
     "output_type": "execute_result"
    }
   ],
   "source": [
    "grid_search = GridSearchCV(estimator=model_svm, param_grid=param_grid, cv=3)\n",
    "\n",
    "grid_search.fit(X_train, y_train)"
   ]
  },
  {
   "cell_type": "code",
   "execution_count": 14,
   "id": "55cc1d3d",
   "metadata": {
    "execution": {
     "iopub.execute_input": "2023-07-31T03:00:27.310340Z",
     "iopub.status.busy": "2023-07-31T03:00:27.309907Z",
     "iopub.status.idle": "2023-07-31T03:00:27.316651Z",
     "shell.execute_reply": "2023-07-31T03:00:27.315271Z"
    },
    "papermill": {
     "duration": 0.022514,
     "end_time": "2023-07-31T03:00:27.319184",
     "exception": false,
     "start_time": "2023-07-31T03:00:27.296670",
     "status": "completed"
    },
    "tags": []
   },
   "outputs": [
    {
     "name": "stdout",
     "output_type": "stream",
     "text": [
      "Best Parameters:  {'C': 1000, 'decision_function_shape': 'ovo', 'gamma': 0.1, 'kernel': 'rbf'}\n",
      "Best Score:  0.5737424807588417\n"
     ]
    }
   ],
   "source": [
    "best_params = grid_search.best_params_\n",
    "best_score = grid_search.best_score_\n",
    "\n",
    "\n",
    "print(\"Best Parameters: \", best_params)\n",
    "print(\"Best Score: \", best_score)"
   ]
  },
  {
   "cell_type": "code",
   "execution_count": 15,
   "id": "ec2181aa",
   "metadata": {
    "execution": {
     "iopub.execute_input": "2023-07-31T03:00:27.346067Z",
     "iopub.status.busy": "2023-07-31T03:00:27.345641Z",
     "iopub.status.idle": "2023-07-31T03:00:33.612537Z",
     "shell.execute_reply": "2023-07-31T03:00:33.611283Z"
    },
    "papermill": {
     "duration": 6.28286,
     "end_time": "2023-07-31T03:00:33.615191",
     "exception": false,
     "start_time": "2023-07-31T03:00:27.332331",
     "status": "completed"
    },
    "tags": []
   },
   "outputs": [
    {
     "name": "stderr",
     "output_type": "stream",
     "text": [
      "/opt/conda/lib/python3.10/site-packages/sklearn/utils/validation.py:1143: DataConversionWarning: A column-vector y was passed when a 1d array was expected. Please change the shape of y to (n_samples, ), for example using ravel().\n",
      "  y = column_or_1d(y, warn=True)\n"
     ]
    },
    {
     "data": {
      "text/html": [
       "<style>#sk-container-id-2 {color: black;background-color: white;}#sk-container-id-2 pre{padding: 0;}#sk-container-id-2 div.sk-toggleable {background-color: white;}#sk-container-id-2 label.sk-toggleable__label {cursor: pointer;display: block;width: 100%;margin-bottom: 0;padding: 0.3em;box-sizing: border-box;text-align: center;}#sk-container-id-2 label.sk-toggleable__label-arrow:before {content: \"▸\";float: left;margin-right: 0.25em;color: #696969;}#sk-container-id-2 label.sk-toggleable__label-arrow:hover:before {color: black;}#sk-container-id-2 div.sk-estimator:hover label.sk-toggleable__label-arrow:before {color: black;}#sk-container-id-2 div.sk-toggleable__content {max-height: 0;max-width: 0;overflow: hidden;text-align: left;background-color: #f0f8ff;}#sk-container-id-2 div.sk-toggleable__content pre {margin: 0.2em;color: black;border-radius: 0.25em;background-color: #f0f8ff;}#sk-container-id-2 input.sk-toggleable__control:checked~div.sk-toggleable__content {max-height: 200px;max-width: 100%;overflow: auto;}#sk-container-id-2 input.sk-toggleable__control:checked~label.sk-toggleable__label-arrow:before {content: \"▾\";}#sk-container-id-2 div.sk-estimator input.sk-toggleable__control:checked~label.sk-toggleable__label {background-color: #d4ebff;}#sk-container-id-2 div.sk-label input.sk-toggleable__control:checked~label.sk-toggleable__label {background-color: #d4ebff;}#sk-container-id-2 input.sk-hidden--visually {border: 0;clip: rect(1px 1px 1px 1px);clip: rect(1px, 1px, 1px, 1px);height: 1px;margin: -1px;overflow: hidden;padding: 0;position: absolute;width: 1px;}#sk-container-id-2 div.sk-estimator {font-family: monospace;background-color: #f0f8ff;border: 1px dotted black;border-radius: 0.25em;box-sizing: border-box;margin-bottom: 0.5em;}#sk-container-id-2 div.sk-estimator:hover {background-color: #d4ebff;}#sk-container-id-2 div.sk-parallel-item::after {content: \"\";width: 100%;border-bottom: 1px solid gray;flex-grow: 1;}#sk-container-id-2 div.sk-label:hover label.sk-toggleable__label {background-color: #d4ebff;}#sk-container-id-2 div.sk-serial::before {content: \"\";position: absolute;border-left: 1px solid gray;box-sizing: border-box;top: 0;bottom: 0;left: 50%;z-index: 0;}#sk-container-id-2 div.sk-serial {display: flex;flex-direction: column;align-items: center;background-color: white;padding-right: 0.2em;padding-left: 0.2em;position: relative;}#sk-container-id-2 div.sk-item {position: relative;z-index: 1;}#sk-container-id-2 div.sk-parallel {display: flex;align-items: stretch;justify-content: center;background-color: white;position: relative;}#sk-container-id-2 div.sk-item::before, #sk-container-id-2 div.sk-parallel-item::before {content: \"\";position: absolute;border-left: 1px solid gray;box-sizing: border-box;top: 0;bottom: 0;left: 50%;z-index: -1;}#sk-container-id-2 div.sk-parallel-item {display: flex;flex-direction: column;z-index: 1;position: relative;background-color: white;}#sk-container-id-2 div.sk-parallel-item:first-child::after {align-self: flex-end;width: 50%;}#sk-container-id-2 div.sk-parallel-item:last-child::after {align-self: flex-start;width: 50%;}#sk-container-id-2 div.sk-parallel-item:only-child::after {width: 0;}#sk-container-id-2 div.sk-dashed-wrapped {border: 1px dashed gray;margin: 0 0.4em 0.5em 0.4em;box-sizing: border-box;padding-bottom: 0.4em;background-color: white;}#sk-container-id-2 div.sk-label label {font-family: monospace;font-weight: bold;display: inline-block;line-height: 1.2em;}#sk-container-id-2 div.sk-label-container {text-align: center;}#sk-container-id-2 div.sk-container {/* jupyter's `normalize.less` sets `[hidden] { display: none; }` but bootstrap.min.css set `[hidden] { display: none !important; }` so we also need the `!important` here to be able to override the default hidden behavior on the sphinx rendered scikit-learn.org. See: https://github.com/scikit-learn/scikit-learn/issues/21755 */display: inline-block !important;position: relative;}#sk-container-id-2 div.sk-text-repr-fallback {display: none;}</style><div id=\"sk-container-id-2\" class=\"sk-top-container\"><div class=\"sk-text-repr-fallback\"><pre>SVC(C=1000, decision_function_shape=&#x27;ovo&#x27;, gamma=0.1)</pre><b>In a Jupyter environment, please rerun this cell to show the HTML representation or trust the notebook. <br />On GitHub, the HTML representation is unable to render, please try loading this page with nbviewer.org.</b></div><div class=\"sk-container\" hidden><div class=\"sk-item\"><div class=\"sk-estimator sk-toggleable\"><input class=\"sk-toggleable__control sk-hidden--visually\" id=\"sk-estimator-id-4\" type=\"checkbox\" checked><label for=\"sk-estimator-id-4\" class=\"sk-toggleable__label sk-toggleable__label-arrow\">SVC</label><div class=\"sk-toggleable__content\"><pre>SVC(C=1000, decision_function_shape=&#x27;ovo&#x27;, gamma=0.1)</pre></div></div></div></div></div>"
      ],
      "text/plain": [
       "SVC(C=1000, decision_function_shape='ovo', gamma=0.1)"
      ]
     },
     "execution_count": 15,
     "metadata": {},
     "output_type": "execute_result"
    }
   ],
   "source": [
    "final_model = svm.SVC(**best_params)\n",
    "\n",
    "\n",
    "final_model.fit(X_train, y_train)"
   ]
  },
  {
   "cell_type": "code",
   "execution_count": 16,
   "id": "8f136f2e",
   "metadata": {
    "execution": {
     "iopub.execute_input": "2023-07-31T03:00:33.641652Z",
     "iopub.status.busy": "2023-07-31T03:00:33.641251Z",
     "iopub.status.idle": "2023-07-31T03:00:33.857195Z",
     "shell.execute_reply": "2023-07-31T03:00:33.855950Z"
    },
    "papermill": {
     "duration": 0.232269,
     "end_time": "2023-07-31T03:00:33.859856",
     "exception": false,
     "start_time": "2023-07-31T03:00:33.627587",
     "status": "completed"
    },
    "tags": []
   },
   "outputs": [
    {
     "name": "stdout",
     "output_type": "stream",
     "text": [
      "Accuracy:  0.5863309352517986\n"
     ]
    }
   ],
   "source": [
    "accuracy = final_model.score(X_test, y_test)\n",
    "print(\"Accuracy: \", accuracy)"
   ]
  },
  {
   "cell_type": "code",
   "execution_count": 17,
   "id": "93ddd7d8",
   "metadata": {
    "execution": {
     "iopub.execute_input": "2023-07-31T03:00:33.887182Z",
     "iopub.status.busy": "2023-07-31T03:00:33.886759Z",
     "iopub.status.idle": "2023-07-31T03:00:34.127317Z",
     "shell.execute_reply": "2023-07-31T03:00:34.125739Z"
    },
    "papermill": {
     "duration": 0.25701,
     "end_time": "2023-07-31T03:00:34.130145",
     "exception": false,
     "start_time": "2023-07-31T03:00:33.873135",
     "status": "completed"
    },
    "tags": []
   },
   "outputs": [
    {
     "name": "stdout",
     "output_type": "stream",
     "text": [
      "Confusion Matrix:\n",
      "[[260  52  37]\n",
      " [ 81 222  75]\n",
      " [ 95 120 170]]\n",
      "Classification Report:\n",
      "              precision    recall  f1-score   support\n",
      "\n",
      "           1      0.596     0.745     0.662       349\n",
      "           2      0.563     0.587     0.575       378\n",
      "           4      0.603     0.442     0.510       385\n",
      "\n",
      "    accuracy                          0.586      1112\n",
      "   macro avg      0.588     0.591     0.582      1112\n",
      "weighted avg      0.587     0.586     0.580      1112\n",
      "\n"
     ]
    }
   ],
   "source": [
    "grid_search_predictions = grid_search.predict(X_test)\n",
    "\n",
    "\n",
    "print(\"Confusion Matrix:\")\n",
    "print(confusion_matrix(y_test, grid_search_predictions))\n",
    "\n",
    "\n",
    "print(\"Classification Report:\")\n",
    "print(classification_report(y_test, grid_search_predictions, digits=3))"
   ]
  },
  {
   "cell_type": "code",
   "execution_count": 18,
   "id": "04918bae",
   "metadata": {
    "execution": {
     "iopub.execute_input": "2023-07-31T03:00:34.158317Z",
     "iopub.status.busy": "2023-07-31T03:00:34.157510Z",
     "iopub.status.idle": "2023-07-31T03:00:34.661164Z",
     "shell.execute_reply": "2023-07-31T03:00:34.660004Z"
    },
    "papermill": {
     "duration": 0.520451,
     "end_time": "2023-07-31T03:00:34.663773",
     "exception": false,
     "start_time": "2023-07-31T03:00:34.143322",
     "status": "completed"
    },
    "tags": []
   },
   "outputs": [
    {
     "data": {
      "image/png": "[encoded data removed]",
      "text/plain": [
       "<Figure size 640x480 with 2 Axes>"
      ]
     },
     "metadata": {},
     "output_type": "display_data"
    }
   ],
   "source": [
    "cm_display = ConfusionMatrixDisplay.from_estimator(final_model, X_test, y_test, normalize='true')"
   ]
  },
  {
   "cell_type": "code",
   "execution_count": 19,
   "id": "df60adbb",
   "metadata": {
    "execution": {
     "iopub.execute_input": "2023-07-31T03:00:34.691591Z",
     "iopub.status.busy": "2023-07-31T03:00:34.690834Z",
     "iopub.status.idle": "2023-07-31T03:00:34.695754Z",
     "shell.execute_reply": "2023-07-31T03:00:34.694913Z"
    },
    "papermill": {
     "duration": 0.021196,
     "end_time": "2023-07-31T03:00:34.697881",
     "exception": false,
     "start_time": "2023-07-31T03:00:34.676685",
     "status": "completed"
    },
    "tags": []
   },
   "outputs": [],
   "source": [
    "# model_2 = svm.SVC(gamma = 1, C = 1000, decision_function_shape='ovo', kernel='linear').fit(X_train, y_train)"
   ]
  },
  {
   "cell_type": "code",
   "execution_count": 20,
   "id": "e77c0241",
   "metadata": {
    "execution": {
     "iopub.execute_input": "2023-07-31T03:00:34.725660Z",
     "iopub.status.busy": "2023-07-31T03:00:34.725010Z",
     "iopub.status.idle": "2023-07-31T03:00:34.729645Z",
     "shell.execute_reply": "2023-07-31T03:00:34.728844Z"
    },
    "papermill": {
     "duration": 0.020968,
     "end_time": "2023-07-31T03:00:34.731772",
     "exception": false,
     "start_time": "2023-07-31T03:00:34.710804",
     "status": "completed"
    },
    "tags": []
   },
   "outputs": [],
   "source": [
    "# model_pred_2 = model_2.predict(X_test)\n",
    "\n",
    "# print(\"Confusion Matrix:\")\n",
    "# print(confusion_matrix(y_test, model_pred_2))\n",
    "\n",
    "\n",
    "# print(\"Classification Report:\")\n",
    "# print(classification_report(y_test, model_pred_2, digits=3))"
   ]
  },
  {
   "cell_type": "code",
   "execution_count": 21,
   "id": "c66a0655",
   "metadata": {
    "execution": {
     "iopub.execute_input": "2023-07-31T03:00:34.759838Z",
     "iopub.status.busy": "2023-07-31T03:00:34.759186Z",
     "iopub.status.idle": "2023-07-31T03:00:34.764125Z",
     "shell.execute_reply": "2023-07-31T03:00:34.763055Z"
    },
    "papermill": {
     "duration": 0.02172,
     "end_time": "2023-07-31T03:00:34.766429",
     "exception": false,
     "start_time": "2023-07-31T03:00:34.744709",
     "status": "completed"
    },
    "tags": []
   },
   "outputs": [],
   "source": [
    "# cm_display = ConfusionMatrixDisplay.from_estimator(model_2, X_test, y_test, normalize='true')"
   ]
  },
  {
   "cell_type": "code",
   "execution_count": null,
   "id": "945030dc",
   "metadata": {
    "papermill": {
     "duration": 0.012541,
     "end_time": "2023-07-31T03:00:34.792147",
     "exception": false,
     "start_time": "2023-07-31T03:00:34.779606",
     "status": "completed"
    },
    "tags": []
   },
   "outputs": [],
   "source": []
  }
 ],
 "metadata": {
  "kernelspec": {
   "display_name": "Python 3",
   "language": "python",
   "name": "python3"
  },
  "language_info": {
   "codemirror_mode": {
    "name": "ipython",
    "version": 3
   },
   "file_extension": ".py",
   "mimetype": "text/x-python",
   "name": "python",
   "nbconvert_exporter": "python",
   "pygments_lexer": "ipython3",
   "version": "3.10.12"
  },
  "papermill": {
   "default_parameters": {},
   "duration": 94.58185,
   "end_time": "2023-07-31T03:00:35.727032",
   "environment_variables": {},
   "exception": null,
   "input_path": "__notebook__.ipynb",
   "output_path": "__notebook__.ipynb",
   "parameters": {},
   "start_time": "2023-07-31T02:59:01.145182",
   "version": "2.4.0"
  }
 },
 "nbformat": 4,
 "nbformat_minor": 5
}
